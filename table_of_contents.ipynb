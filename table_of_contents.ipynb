{
 "cells": [
  {
   "cell_type": "code",
   "execution_count": null,
   "metadata": {},
   "outputs": [],
   "source": []
  },
  {
   "cell_type": "markdown",
   "metadata": {},
   "source": [
    "# Welcome to the Region of Interest Tutorials for PlantCV\n",
    "\n",
    "The [PlantCV project](http://plantcv.danforthcenter.org/) is an open-source imaging processing package for plant phenotyping. These are tutorials meant to teach how to use Region of Interest tools for object filtering. These workflows are intended for teaching concepts and workflow building skills, NOT meant to be re-used as a template for analyzing datasets. \n",
    "\n",
    "## Table of Contents\n",
    "\n",
    "### Tutorials\n",
    "\n",
    "- [Rectangle ROI](notebooks/roi-rectangle-tutorial.ipynb)\n",
    "- [Circular ROI](notebooks/roi-circle-tutorial.ipynb)\n",
    "- [Ellipse ROI](notebooks/roi-ellipse-tutorial.ipynb)\n",
    "- [Multi ROI](notebooks/roi-rectangle-tutorial.ipynb)\n",
    "- [Automatic Grid ROI](notebooks/roi-rectangle-tutorial.ipynb)\n",
    "- [Custom Polygon ROI](notebooks/roi-custom-tutorial.ipynb)\n",
    "\n"
   ]
  },
  {
   "cell_type": "code",
   "execution_count": null,
   "metadata": {},
   "outputs": [],
   "source": []
  }
 ],
 "metadata": {
  "kernelspec": {
   "display_name": "Python 3",
   "language": "python",
   "name": "python3"
  },
  "language_info": {
   "codemirror_mode": {
    "name": "ipython",
    "version": 3
   },
   "file_extension": ".py",
   "mimetype": "text/x-python",
   "name": "python",
   "nbconvert_exporter": "python",
   "pygments_lexer": "ipython3",
   "version": "3.6.8"
  }
 },
 "nbformat": 4,
 "nbformat_minor": 1
}
